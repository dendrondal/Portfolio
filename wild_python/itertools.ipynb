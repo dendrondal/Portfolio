{
 "cells": [
  {
   "cell_type": "markdown",
   "metadata": {
    "collapsed": true,
    "pycharm": {
     "name": "#%% md\n"
    }
   },
   "source": [
    "title: A wild itertools appeared!\n",
    "description: A walkthrough and deployment use cases of the itertools standard library\n",
    "thumbnail: https://upload.wikimedia.org/wikipedia/commons/c/c3/Python-logo-notext.svg\n",
    "tags: [wild python, functional programming, tutorials]\n",
    "\n",
    "# A wild _itertools_ appears!\n",
    "\n",
    "## About this series\n",
    "This blog post is the first of a new series I'm starting called \"Wild Python,\" aka use cases of selected python libraries in deployment. Posts of this series will generally consist of a breakdown of the library and intended use cases, followed by several examples of how it is used in the context of several popular GitHub repositories. This series will be continually ongoing, partially to act as a personal refresher course.\n",
    "\n",
    "## What is _itertools_?\n",
    "Itertools is Python implementation of a common design pattern to stream data in [functional programming](https://www.dataquest.io/blog/introduction-functional-programming-python/). Effectively, this allows a way to take an iterable (```list, tuple, dict, string``` etc.) and apply a very succinct method to lazily iterate through them based on several commonly used pieces of logic. Let's take a toy example, one of the [most overused interview questions](https://www.tomdalling.com/blog/software-design/fizzbuzz-in-too-much-detail/):\n"
   ]
  },
  {
   "cell_type": "code",
   "source": [
    "from itertools import cycle, count, islice\n",
    "\n",
    "fizzes = cycle(['', '', 'fizz'])\n",
    "buzzes = cycle(['', '', '', '', 'buzz'])\n",
    "numbers = count(1)\n",
    "fizzbuzz = (f'{fizz}{buzz}' or n \n",
    "            for  fizz, buzz, n in zip(fizzes, buzzes, numbers))\n",
    "for result in islice(fizzbuzz, 16):\n",
    "    print(result)"
   ],
   "metadata": {
    "collapsed": false,
    "pycharm": {
     "name": "#%%\n",
     "is_executing": false
    }
   },
   "execution_count": 7,
   "outputs": [
    {
     "name": "stdout",
     "text": [
      "1\n2\nfizz\n4\nbuzz\nfizz\n7\n8\nfizz\nbuzz\n11\nfizz\n13\n14\nfizzbuzz\n16\n17\nfizz\n19\nbuzz\nfizz\n22\n23\nfizz\nbuzz\n"
     ],
     "output_type": "stream"
    }
   ]
  },
  {
   "cell_type": "markdown",
   "source": [
    "Let's break this down: ```itertools.cycle``` consumes an iterator, then loops back over it from the beginning infinitely, or until a stop condition is reached. As the name implies, this is very useful for cyclic or periodic data. ```count``` is another infinite iterator, that accepts a \"start\" and \"step\" argument, similar to ```range()``` Finally, we have ```islice```, another piece of syntactic sugar that is equivalent to ```for i in range(number): do_something(iterable[i])```\n",
    "\n",
    "However, in addition to being more readable, this has the advantage of speed and memory efficiency. The ```for``` loop above using ```range``` would most likely be used with a previously existing iterable, which is stored in RAM. This is opposed to the ```islice``` implementation, which doesn't store any values, only using RAM in the case that it is called. Note that an equivalent alternative to the islice implementation above is to say ```for i in range(16): print(next(fizzbuzz))``` Next is an important method to keep in mind when working with generators.\n",
    "\n",
    "Let's do another example with another favorite interview question, the [Knapsack Problem](https://en.wikipedia.org/wiki/Knapsack_problem), approximated using a brute-force approach:"
   ],
   "metadata": {
    "collapsed": false,
    "pycharm": {
     "name": "#%% md\n"
    }
   }
  },
  {
   "cell_type": "code",
   "execution_count": 15,
   "outputs": [
    {
     "name": "stdout",
     "text": [
      "[('pants+socks+hammock+headlamp', 180), ('shirt+shoes+socks+headlamp', 160), ('shirt+shoes+hammock+headlamp', 150), ('pants+shoes+socks', 140), ('pants+shoes+hammock', 130), ('shirt+socks+water', 130), ('stove+socks+headlamp', 130), ('shirt+stove+socks+hammock', 130), ('water+headlamp', 120), ('shirt+water+hammock', 120), ('stove+hammock+headlamp', 120), ('socks+tent+headlamp', 120), ('shirt+socks+tent+hammock', 120), ('tent+hammock+headlamp', 110), ('pants+shirt+headlamp', 100), ('shoes+stove', 80), ('shoes+tent', 70)]\n"
     ],
     "output_type": "stream"
    }
   ],
   "source": [
    "from collections import namedtuple\n",
    "from itertools import combinations\n",
    "\n",
    "item = namedtuple('Item', 'name value mass')\n",
    "pants = item('pants', 40, 5)\n",
    "shirt = item('shirt', 10, 2)\n",
    "shoes = item('shoes', 50, 4)\n",
    "stove = item('stove', 30, 6)\n",
    "socks = item('socks', 50, 1)\n",
    "water = item('water', 70, 7)\n",
    "tent = item('tent', 20, 6)\n",
    "hammock = item('hammock', 40, 1)\n",
    "headlamp = item('headlamp', 50, 3)\n",
    "possibilities = [pants, shirt, shoes, stove, socks, \n",
    "                 water, tent, hammock, headlamp]\n",
    "\n",
    "#assuming a knapsack that can carry 10kg:\n",
    "max_weight = dict()\n",
    "for n in range(1, len(possibilities)+1):\n",
    "    for combination in combinations(possibilities, n):\n",
    "        if sum([thing.mass for thing in combination]) == 10:\n",
    "            answer = '+'.join([thing.name for thing in combination])\n",
    "            max_weight[answer] = sum([thing.value for thing in combination])\n",
    "            \n",
    "print(sorted(max_weight.items(), key=lambda d: d[1], reverse=True))\n",
    "\n"
   ],
   "metadata": {
    "collapsed": false,
    "pycharm": {
     "name": "#%%\n",
     "is_executing": false
    }
   }
  },
  {
   "cell_type": "markdown",
   "source": [
    "_Note: This is neither [the most efficient solution](http://www.es.ele.tue.nl/education/5MC10/Solutions/knapsack.pdf), nor is it recommended to go out into the wilderness without a shirt or shoes._\n",
    "\n",
    "Let's break this down: we have several items with a cost and weight associated with them. There are many data structures that can represent this, but I decided to go with named tuples for clarity's sake (this will probably warrant another Wild Python article). We then iterate through all possible combinations of items by finding combinations of different length within a nested for loop. We add them to a dictionary if it maxes out the knapsack carrying capacity. Finally, we see what the highest value combination is by ordering the resulting dictionary by values rather than keys, then reversing it. We now have a very fast and memory-efficient brute force solution!\n",
    "### Chain chain chain\n",
    "One method that deserves some additional explanation is ```chain``` vs. ```chain_from_iterable```. Chain takes two or more iterables as arguments, and chains them together, consuming them in the order passed. From_iterable takes a _single_ iterator as an argument, effectively flattening it (think smushing a matrix into an array)\n",
    "\n",
    "## Production use cases\n",
    "[Keras]() utilizes ```itertools.compress``` to check whether all functions have been properly documented:\n"
   ],
   "metadata": {
    "collapsed": false,
    "pycharm": {
     "name": "#%% md\n"
    }
   }
  },
  {
   "cell_type": "code",
   "execution_count": 18,
   "outputs": [
    {
     "name": "stdout",
     "text": [
      "[False, False, True, True]\n"
     ],
     "output_type": "stream"
    }
   ],
   "source": [
    "from itertools import compress\n",
    "def assert_args_presence(args, doc, member, name):\n",
    "    args_not_in_doc = [arg not in doc for arg in args]\n",
    "    if any(args_not_in_doc):\n",
    "        raise ValueError(\n",
    "            \"{} {} arguments are not present in documentation \".format(name, list(\n",
    "                compress(args, args_not_in_doc))), member.__module__)"
   ],
   "metadata": {
    "collapsed": false,
    "pycharm": {
     "name": "#%%\n",
     "is_executing": false
    }
   }
  },
  {
   "cell_type": "markdown",
   "source": [
    "Compress is usually used to map an iterable to the \"truthiness\" of individual components of that iterable. The list comprehension above contains booleans based on list membership, which is then mapped back onto the function arguments during the string formatting. This tells anyone submitting a pull request exactly what function arguments need to be documented.\n",
    "\n",
    "[Glom]() is possibly Python's best answer for nested JSON data. uses ```chain.from_iterable``` "
   ],
   "metadata": {
    "collapsed": false,
    "pycharm": {
     "name": "#%% md\n"
    }
   }
  }
 ],
 "metadata": {
  "language_info": {
   "codemirror_mode": {
    "name": "ipython",
    "version": 2
   },
   "file_extension": ".py",
   "mimetype": "text/x-python",
   "name": "python",
   "nbconvert_exporter": "python",
   "pygments_lexer": "ipython2",
   "version": "2.7.6"
  },
  "kernelspec": {
   "name": "python3",
   "language": "python",
   "display_name": "Python 3"
  },
  "pycharm": {
   "stem_cell": {
    "cell_type": "raw",
    "source": [],
    "metadata": {
     "collapsed": false
    }
   }
  }
 },
 "nbformat": 4,
 "nbformat_minor": 0
}
